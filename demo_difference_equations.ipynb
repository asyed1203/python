{
 "cells": [
  {
   "cell_type": "markdown",
   "metadata": {},
   "source": [
    "# Difference Equations\n",
    "Note: running Python 3.6.6"
   ]
  },
  {
   "cell_type": "code",
   "execution_count": 1,
   "metadata": {
    "collapsed": true
   },
   "outputs": [],
   "source": [
    "import matplotlib.pyplot as plt\n",
    "import numpy as np\n",
    "import scipy\n",
    "from scipy.signal import lfilter\n",
    "from scipy.signal import unit_impulse"
   ]
  },
  {
   "cell_type": "markdown",
   "metadata": {},
   "source": [
    "## Viewing impulse response of simple LCCDE\n",
    "\n",
    "$y[n] = 5x[n] + 3x[n-1] - 2x[n-3]$\n",
    "\n",
    "Find $h[n]$, the impulse response of this difference equation.\n",
    "\n",
    "### Method 1: Use the unit_impulse function to substitute $\\delta[n]$ for $x[n]$\n"
   ]
  },
  {
   "cell_type": "code",
   "execution_count": 2,
   "metadata": {
    "collapsed": false
   },
   "outputs": [
    {
     "data": {
      "text/plain": [
       "<StemContainer object of 3 artists>"
      ]
     },
     "execution_count": 2,
     "metadata": {},
     "output_type": "execute_result"
    },
    {
     "data": {
      "image/png": "[encoded data removed]",
      "text/plain": [
       "<Figure size 432x288 with 1 Axes>"
      ]
     },
     "metadata": {
      "needs_background": "light"
     },
     "output_type": "display_data"
    }
   ],
   "source": [
    "N = 8\n",
    "n = np.arange(N)\n",
    "\n",
    "x1 = unit_impulse(N,0)\n",
    "x2 = unit_impulse(N,1)\n",
    "x3 = unit_impulse(N,3)\n",
    "\n",
    "h = 5 * x1 + 3 * x2 - 2 * x3\n",
    "plt.stem(n,h)\n"
   ]
  },
  {
   "cell_type": "markdown",
   "metadata": {},
   "source": [
    "### Method 2: Using the Scipy.signal function 'lfilter'"
   ]
  },
  {
   "cell_type": "code",
   "execution_count": 3,
   "metadata": {
    "collapsed": false
   },
   "outputs": [
    {
     "name": "stderr",
     "output_type": "stream",
     "text": [
      "C:\\Users\\laian\\Anaconda\\envs\\py37\\lib\\site-packages\\scipy\\signal\\signaltools.py:1344: FutureWarning: Using a non-tuple sequence for multidimensional indexing is deprecated; use `arr[tuple(seq)]` instead of `arr[seq]`. In the future this will be interpreted as an array index, `arr[np.array(seq)]`, which will result either in an error or a different result.\n",
      "  out = out_full[ind]\n"
     ]
    },
    {
     "data": {
      "text/plain": [
       "<StemContainer object of 3 artists>"
      ]
     },
     "execution_count": 3,
     "metadata": {},
     "output_type": "execute_result"
    },
    {
     "data": {
      "image/png": "[encoded data removed]",
      "text/plain": [
       "<Figure size 432x288 with 1 Axes>"
      ]
     },
     "metadata": {
      "needs_background": "light"
     },
     "output_type": "display_data"
    }
   ],
   "source": [
    "b = np.array([5,3,0,-2]) # Coefficients of x - leave a space for x[n-2]!\n",
    "a = np.array(1) # Coefficients of y\n",
    "\n",
    "x = unit_impulse(N,0)\n",
    "h = lfilter(b,a,x)\n",
    "plt.stem(n,h)"
   ]
  },
  {
   "cell_type": "markdown",
   "metadata": {},
   "source": [
    "## Recursive LCCDE with 0 initial conditions\n",
    "$y[n] = 0.3y[n-1] - 0.4y[n-3] + 5x[n] - 3x[n-1]$\n",
    "\n",
    "### Method 1: Use the unit_impulse function to substitute $\\delta[n]$ for $x[n]$\n"
   ]
  },
  {
   "cell_type": "code",
   "execution_count": 4,
   "metadata": {
    "collapsed": true
   },
   "outputs": [],
   "source": [
    "# Gets complicated and is not recommended!"
   ]
  },
  {
   "cell_type": "code",
   "execution_count": 5,
   "metadata": {
    "collapsed": false
   },
   "outputs": [
    {
     "data": {
      "text/plain": [
       "<StemContainer object of 3 artists>"
      ]
     },
     "execution_count": 5,
     "metadata": {},
     "output_type": "execute_result"
    },
    {
     "data": {
      "image/png": "[encoded data removed]",
      "text/plain": [
       "<Figure size 432x288 with 1 Axes>"
      ]
     },
     "metadata": {
      "needs_background": "light"
     },
     "output_type": "display_data"
    }
   ],
   "source": [
    "N = 32+3\n",
    "n = np.arange(N)-3 # to have some space for initial conditions\n",
    "\n",
    "y = np.zeros((N))\n",
    "x = scipy.signal.unit_impulse(N,3) # to account for the offset in y\n",
    "\n",
    "for i in range(3,16,1):\n",
    "    y[i] = .3 * y[i-1] - .4 * y[i-3] + 5 * x[i] - 3 * x[i-1]\n",
    "    \n",
    "plt.stem(n[3:],y[3:])"
   ]
  },
  {
   "cell_type": "markdown",
   "metadata": {},
   "source": [
    "### Method 2: Using 'lfilter' (recommended!!)"
   ]
  },
  {
   "cell_type": "code",
   "execution_count": 6,
   "metadata": {
    "collapsed": false
   },
   "outputs": [
    {
     "data": {
      "text/plain": [
       "<StemContainer object of 3 artists>"
      ]
     },
     "execution_count": 6,
     "metadata": {},
     "output_type": "execute_result"
    },
    {
     "data": {
      "image/png": "[encoded data removed]",
      "text/plain": [
       "<Figure size 432x288 with 1 Axes>"
      ]
     },
     "metadata": {
      "needs_background": "light"
     },
     "output_type": "display_data"
    }
   ],
   "source": [
    "b = np.array([5, -3]) # coefficients of x\n",
    "a = np.array([1, -0.3, 0, 0.4]) # coefficients of y - check your signs!\n",
    "\n",
    "N = 32\n",
    "n = np.arange(N)\n",
    "x = unit_impulse(N,0)\n",
    "h = lfilter(b,a,x)\n",
    "plt.stem(n,h)"
   ]
  },
  {
   "cell_type": "markdown",
   "metadata": {},
   "source": [
    "## Recursive LCCDE with non-zero initial conditions\n",
    "$y[n] = 0.3y[n-1] - 0.4y[n-3] + 5x[n] - 3x[n-1]$\n",
    "\n",
    "$y[-3] = 10$\n",
    "\n",
    "$y[-2] = 15$\n",
    "\n",
    "$y[-1] = 5$\n",
    "\n",
    "### Method 1:"
   ]
  },
  {
   "cell_type": "code",
   "execution_count": 7,
   "metadata": {
    "collapsed": false
   },
   "outputs": [
    {
     "data": {
      "text/plain": [
       "<StemContainer object of 3 artists>"
      ]
     },
     "execution_count": 7,
     "metadata": {},
     "output_type": "execute_result"
    },
    {
     "data": {
      "image/png": "[encoded data removed]",
      "text/plain": [
       "<Figure size 432x288 with 1 Axes>"
      ]
     },
     "metadata": {
      "needs_background": "light"
     },
     "output_type": "display_data"
    }
   ],
   "source": [
    "N = 32+3\n",
    "n = np.arange(N)-3 # to have some space for initial conditions\n",
    "\n",
    "# Set up initial conditions\n",
    "y = np.zeros((N))\n",
    "y[0] = 10\n",
    "y[1] = 15\n",
    "y[2] = 5\n",
    "x = scipy.signal.unit_impulse(N,3) # to account for the offset in y\n",
    "\n",
    "for i in range(3,16,1):\n",
    "    y[i] = .3 * y[i-1] - .4 * y[i-3] + 5 * x[i] - 3 * x[i-1]\n",
    "    \n",
    "plt.stem(n[3:],y[3:])"
   ]
  },
  {
   "cell_type": "markdown",
   "metadata": {},
   "source": [
    "### Method 2"
   ]
  },
  {
   "cell_type": "code",
   "execution_count": 8,
   "metadata": {
    "collapsed": false
   },
   "outputs": [
    {
     "data": {
      "text/plain": [
       "<StemContainer object of 3 artists>"
      ]
     },
     "execution_count": 8,
     "metadata": {},
     "output_type": "execute_result"
    },
    {
     "data": {
      "image/png": "[encoded data removed]",
      "text/plain": [
       "<Figure size 432x288 with 1 Axes>"
      ]
     },
     "metadata": {
      "needs_background": "light"
     },
     "output_type": "display_data"
    }
   ],
   "source": [
    "b = np.array([5, -3]) # coefficients of x\n",
    "a = np.array([1, -0.3, 0, 0.4]) # coefficients of y - check your signs!\n",
    "\n",
    "# Set up initial conditions\n",
    "zi = scipy.signal.lfiltic(b,a,[5,15,10])\n",
    "\n",
    "N = 32\n",
    "n = np.arange(N)\n",
    "x = unit_impulse(N,0)\n",
    "h,zf = lfilter(b,a,x,zi=zi)\n",
    "plt.stem(n,h)"
   ]
  },
  {
   "cell_type": "code",
   "execution_count": null,
   "metadata": {
    "collapsed": true
   },
   "outputs": [],
   "source": []
  }
 ],
 "metadata": {
  "anaconda-cloud": {},
  "kernelspec": {
   "display_name": "Python [conda env:py37]",
   "language": "python",
   "name": "conda-env-py37-py"
  },
  "language_info": {
   "codemirror_mode": {
    "name": "ipython",
    "version": 3
   },
   "file_extension": ".py",
   "mimetype": "text/x-python",
   "name": "python",
   "nbconvert_exporter": "python",
   "pygments_lexer": "ipython3",
   "version": "3.6.6"
  }
 },
 "nbformat": 4,
 "nbformat_minor": 1
}
